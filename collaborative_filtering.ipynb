{
  "nbformat": 4,
  "nbformat_minor": 0,
  "metadata": {
    "colab": {
      "name": "collaborative_filtering.ipynb",
      "version": "0.3.2",
      "provenance": [],
      "include_colab_link": true
    },
    "kernelspec": {
      "name": "python3",
      "display_name": "Python 3"
    }
  },
  "cells": [
    {
      "cell_type": "markdown",
      "metadata": {
        "id": "view-in-github",
        "colab_type": "text"
      },
      "source": [
        "<a href=\"https://colab.research.google.com/github/mbhaskar1/ML-Coursera/blob/master/collaborative_filtering.ipynb\" target=\"_parent\"><img src=\"https://colab.research.google.com/assets/colab-badge.svg\" alt=\"Open In Colab\"/></a>"
      ]
    },
    {
      "cell_type": "code",
      "metadata": {
        "id": "uAqSoA2fNEf3",
        "colab_type": "code",
        "colab": {}
      },
      "source": [
        "import numpy as np\n",
        "import seaborn as sns\n",
        "from scipy.io import loadmat\n",
        "from scipy.optimize import minimize"
      ],
      "execution_count": 0,
      "outputs": []
    },
    {
      "cell_type": "markdown",
      "metadata": {
        "id": "nrPR3tghMkdJ",
        "colab_type": "text"
      },
      "source": [
        "Mount drive"
      ]
    },
    {
      "cell_type": "code",
      "metadata": {
        "id": "czSmBUVTEs5n",
        "colab_type": "code",
        "colab": {
          "base_uri": "https://localhost:8080/",
          "height": 34
        },
        "outputId": "83231047-5d8a-4111-b041-45d8eb49481b"
      },
      "source": [
        "from google.colab import drive\n",
        "drive.mount('/content/drive')"
      ],
      "execution_count": 2,
      "outputs": [
        {
          "output_type": "stream",
          "text": [
            "Drive already mounted at /content/drive; to attempt to forcibly remount, call drive.mount(\"/content/drive\", force_remount=True).\n"
          ],
          "name": "stdout"
        }
      ]
    },
    {
      "cell_type": "markdown",
      "metadata": {
        "id": "SbFrkxX9N80G",
        "colab_type": "text"
      },
      "source": [
        "Get data"
      ]
    },
    {
      "cell_type": "code",
      "metadata": {
        "id": "oblzFsPsN-mV",
        "colab_type": "code",
        "colab": {
          "base_uri": "https://localhost:8080/",
          "height": 51
        },
        "outputId": "5ad86bbd-c0a7-4c0e-b0a9-c71d4c2fbc90"
      },
      "source": [
        "mat = loadmat('/content/drive/My Drive/Colab Notebooks/data/ex8_movies.mat')\n",
        "Y = mat['Y']\n",
        "R = mat['R']\n",
        "num_movies, num_users = Y.shape\n",
        "print(f'Number of Movies: {num_movies}')\n",
        "print(f'Number of Users: {num_users}')"
      ],
      "execution_count": 3,
      "outputs": [
        {
          "output_type": "stream",
          "text": [
            "Number of Movies: 1682\n",
            "Number of Users: 943\n"
          ],
          "name": "stdout"
        }
      ]
    },
    {
      "cell_type": "markdown",
      "metadata": {
        "id": "kajPPnupgKaQ",
        "colab_type": "text"
      },
      "source": [
        "Setup parameters"
      ]
    },
    {
      "cell_type": "code",
      "metadata": {
        "id": "aN5gUynegqhv",
        "colab_type": "code",
        "colab": {}
      },
      "source": [
        "x = np.random.normal(size=(num_movies, num_movies))\n",
        "theta = np.random.normal(size=(num_users, num_movies))"
      ],
      "execution_count": 0,
      "outputs": []
    },
    {
      "cell_type": "markdown",
      "metadata": {
        "id": "dA3yoihphaAP",
        "colab_type": "text"
      },
      "source": [
        "Define cost, grad_x, and grad_theta functions"
      ]
    },
    {
      "cell_type": "code",
      "metadata": {
        "id": "Cj8J7WP0hfL0",
        "colab_type": "code",
        "colab": {}
      },
      "source": [
        "alpha = 0.0005\n",
        "reg_param = 100\n",
        "\n",
        "def cost(x, theta):\n",
        "  return (1/num_users/num_movies) * ((1/2) * np.sum((np.dot(x, theta.T)*R - Y) ** 2) + (reg_param/2) * np.sum(x**2) + (reg_param/2) * np.sum(theta**2))\n",
        "\n",
        "def grad_x(x, theta):\n",
        "  return ((x @ theta.T) * R - Y) @ theta + reg_param * x\n",
        "\n",
        "def grad_theta(x, theta):\n",
        "  return ((x @ theta.T) * R - Y).T @ x + reg_param * theta"
      ],
      "execution_count": 0,
      "outputs": []
    },
    {
      "cell_type": "markdown",
      "metadata": {
        "id": "34s-l0LS4tKi",
        "colab_type": "text"
      },
      "source": [
        "Perform Gradient Descent"
      ]
    },
    {
      "cell_type": "code",
      "metadata": {
        "id": "uU8huZJI4ydp",
        "colab_type": "code",
        "colab": {
          "base_uri": "https://localhost:8080/",
          "height": 204
        },
        "outputId": "e0e378da-1ee5-4d38-c845-ab6f57011137"
      },
      "source": [
        "print(f'Initial Cost = {cost(x, theta)}')\n",
        "\n",
        "costs = []\n",
        "iterations = 50\n",
        "print_every = iterations//10\n",
        "for i in range(1, iterations + 1):\n",
        "  g_x = grad_x(x, theta)\n",
        "  g_theta = grad_theta(x, theta)\n",
        "  x -= alpha * g_x\n",
        "  theta -= alpha * g_theta\n",
        "  costs.append(cost(x, theta))\n",
        "  if i % print_every == 0:\n",
        "    print(f'Iteration {i}, Cost = {costs[-1]}')"
      ],
      "execution_count": 6,
      "outputs": [
        {
          "output_type": "stream",
          "text": [
            "Initial Cost = 192.43911861484136\n",
            "Iteration 5, Cost = 75.90805089223191\n",
            "Iteration 10, Cost = 45.46953993001068\n",
            "Iteration 15, Cost = 27.282889145246045\n",
            "Iteration 20, Cost = 16.4069574035862\n",
            "Iteration 25, Cost = 9.905179481542437\n",
            "Iteration 30, Cost = 6.018464307194338\n",
            "Iteration 35, Cost = 3.693845121330179\n",
            "Iteration 40, Cost = 2.3018755241251414\n",
            "Iteration 45, Cost = 1.4668402267479221\n",
            "Iteration 50, Cost = 0.9646983428775846\n"
          ],
          "name": "stdout"
        }
      ]
    },
    {
      "cell_type": "markdown",
      "metadata": {
        "id": "xxylAEK8HCMz",
        "colab_type": "text"
      },
      "source": [
        "Graph Cost Over Time"
      ]
    },
    {
      "cell_type": "code",
      "metadata": {
        "id": "bPvboFiNHEPn",
        "colab_type": "code",
        "colab": {
          "base_uri": "https://localhost:8080/",
          "height": 286
        },
        "outputId": "90582372-5ce6-4e6a-8da5-655ad827f461"
      },
      "source": [
        "sns.lineplot(x=range(iterations), y=costs)"
      ],
      "execution_count": 7,
      "outputs": [
        {
          "output_type": "execute_result",
          "data": {
            "text/plain": [
              "<matplotlib.axes._subplots.AxesSubplot at 0x7fcb79b20470>"
            ]
          },
          "metadata": {
            "tags": []
          },
          "execution_count": 7
        },
        {
          "output_type": "display_data",
          "data": {
            "image/png": "[encoded data removed]",
            "text/plain": [
              "<Figure size 432x288 with 1 Axes>"
            ]
          },
          "metadata": {
            "tags": []
          }
        }
      ]
    }
  ]
}