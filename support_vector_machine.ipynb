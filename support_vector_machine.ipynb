{
  "nbformat": 4,
  "nbformat_minor": 0,
  "metadata": {
    "colab": {
      "name": "support_vector_machine.ipynb",
      "version": "0.3.2",
      "provenance": [],
      "include_colab_link": true
    },
    "kernelspec": {
      "name": "python3",
      "display_name": "Python 3"
    }
  },
  "cells": [
    {
      "cell_type": "markdown",
      "metadata": {
        "id": "view-in-github",
        "colab_type": "text"
      },
      "source": [
        "<a href=\"https://colab.research.google.com/github/mbhaskar1/ML-Coursera/blob/master/support_vector_machine.ipynb\" target=\"_parent\"><img src=\"https://colab.research.google.com/assets/colab-badge.svg\" alt=\"Open In Colab\"/></a>"
      ]
    },
    {
      "cell_type": "code",
      "metadata": {
        "id": "qpsuy9DY4DD_",
        "colab_type": "code",
        "colab": {}
      },
      "source": [
        "import numpy as np\n",
        "import matplotlib.pyplot as plt\n",
        "import seaborn as sns\n",
        "from sklearn.datasets.samples_generator import make_blobs\n",
        "from cvxopt import matrix, solvers"
      ],
      "execution_count": 0,
      "outputs": []
    },
    {
      "cell_type": "markdown",
      "metadata": {
        "id": "ufcXtd9d8rpy",
        "colab_type": "text"
      },
      "source": [
        "Create Dataset:"
      ]
    },
    {
      "cell_type": "code",
      "metadata": {
        "id": "RdCInkZ98rT2",
        "colab_type": "code",
        "outputId": "c47723da-5924-4d00-9757-a9276d96e4c2",
        "colab": {
          "base_uri": "https://localhost:8080/",
          "height": 269
        }
      },
      "source": [
        "m = NUM_POINTS = 100\n",
        "n = NUM_FEATURES = 2\n",
        "\n",
        "CASE = 10\n",
        "\n",
        "if CASE == 1:\n",
        "  # 100 Vectors - Few Support Vectors\n",
        "  X, y = make_blobs(n_samples=100, centers=2, n_features=2, cluster_std=0.5, random_state=0)\n",
        "elif CASE == 2:\n",
        "  # 4 Vectors - 1 Non-Support Vector\n",
        "  X = np.array([[0, 1], [1, 0], [2, 2], [3, 3]])\n",
        "  y = np.array([0, 0, 1, 1]).reshape((4,))\n",
        "  m = 4\n",
        "  n = 2\n",
        "elif CASE == 3:\n",
        "  # 4 Vectors - All Support Vectors (But not really)\n",
        "  X = np.array([[0, 1], [2, 0], [2, 2], [0, 3]])\n",
        "  y = np.array([0, 0, 1, 1])\n",
        "  m = 4\n",
        "  n = 2\n",
        "elif CASE == 4:\n",
        "  # 3 Vectors - 1 Non-Support Vector\n",
        "  X = np.array([[0, 1], [2, 0], [0, 2]])\n",
        "  y = np.array([0, 0, 1])\n",
        "  m = 3\n",
        "  n = 2\n",
        "elif CASE == 5:\n",
        "  # 3 Vectors - All Support Vectors\n",
        "  X = np.array([[0, 1], [2, 0], [2, 2]])\n",
        "  y = np.array([0, 0, 1]).reshape((3,))\n",
        "  m = 3\n",
        "  n = 2\n",
        "elif CASE == 6:\n",
        "  # 2 Vectors - All Support Vectors\n",
        "  X = np.array([[1, 1], [2, 2]])\n",
        "  y = np.array([0, 1]).reshape((2,))\n",
        "  m = 2\n",
        "  n = 2\n",
        "elif CASE == 7:\n",
        "  # 4 Vectors - 1 Non-Support Vector\n",
        "  X = np.array([[0, 1], [1, 0], [2, 2], [3, 3]], dtype=np.float64)\n",
        "  X += np.array([[0.5, 0.8], [0.5, 0.8], [0.5, 0.8], [0.5, 0.8]])\n",
        "  y = np.array([0, 0, 1, 1]).reshape((4,))\n",
        "  m = 4\n",
        "  n = 2\n",
        "elif CASE == 8:\n",
        "  # Steven\n",
        "  X = np.array([[1, 1], [2, 2], [3, 3]])\n",
        "  y = np.array([0, 0, 1])\n",
        "  m = 3\n",
        "  n = 2\n",
        "elif CASE == 9:\n",
        "  # Modified Case 4\n",
        "  X = np.array([[0, 1], [2, 0], [0.1, 2]])\n",
        "  y = np.array([0, 0, 1])\n",
        "  m = 3\n",
        "  n = 2\n",
        "elif CASE == 10:\n",
        "  # Online Example\n",
        "  X = np.array([[3, 4], [1, 4], [2, 3], [6, -1], [7, -1], [5, -3]])\n",
        "  y = np.array([0, 0, 0, 1, 1, 1])\n",
        "  m = 6\n",
        "  n = 2\n",
        "\n",
        "sns.scatterplot(x=X[:, 0], y=X[:, 1], hue=y)\n",
        "\n",
        "y = 2*y - 1  # Change y to be -1 and 1 instead of 0 and 1\n"
      ],
      "execution_count": 2,
      "outputs": [
        {
          "output_type": "display_data",
          "data": {
            "image/png": "[encoded data removed]",
            "text/plain": [
              "<Figure size 432x288 with 1 Axes>"
            ]
          },
          "metadata": {
            "tags": []
          }
        }
      ]
    },
    {
      "cell_type": "markdown",
      "metadata": {
        "id": "9wyjoXIo-cqM",
        "colab_type": "text"
      },
      "source": [
        "Create F array"
      ]
    },
    {
      "cell_type": "code",
      "metadata": {
        "id": "ZfCzU87o_GZR",
        "colab_type": "code",
        "outputId": "7b5a97f8-77f7-4ddc-a5b4-0d5820ab8b69",
        "colab": {
          "base_uri": "https://localhost:8080/",
          "height": 802
        }
      },
      "source": [
        "def kernel(x1, x2, type):\n",
        "  if type=='no-kernel':\n",
        "    return np.dot(x1, x2)\n",
        "\n",
        "P = np.zeros((m+1, m+1))\n",
        "for i in range(m):\n",
        "  for j in range(m):\n",
        "    P[i, j] = y[i]*y[j]*kernel(X[i], X[j], 'no-kernel')\n",
        "\n",
        "for i in range(m):\n",
        "  P[m, i] = y[i]\n",
        "  P[i, m] = y[i]\n",
        "\n",
        "P[m, m] = 0\n",
        "P = matrix(P[:-1, :-1])\n",
        "\n",
        "print(f'P=\\n{P}\\n')\n",
        "\n",
        "#q = -np.ones(m+1)\n",
        "#q[m] = 0\n",
        "#q = matrix(q[:-1])\n",
        "q = matrix(-np.ones((m, 1)))\n",
        "\n",
        "print(f'q=\\n{q}\\n')\n",
        "\n",
        "#G = np.zeros((m+1, m+1))\n",
        "#for i in range(m):\n",
        "#  G[i, i] = -1\n",
        "#G = matrix(G[:-1, :-1])\n",
        "G = matrix(-np.eye(m))\n",
        "  \n",
        "print(f'G=\\n{G}\\n')\n",
        "\n",
        "#h = np.zeros(m+1)\n",
        "#h = matrix(h[:-1])\n",
        "h = matrix(np.zeros(m))\n",
        "\n",
        "print(f'h=\\n{h}\\n')\n",
        "\n",
        "A = matrix(y.reshape(1, m).astype('double'))\n",
        "\n",
        "print(f'A=\\n{A}\\n')\n",
        "\n",
        "b = matrix(np.zeros(1))\n",
        "\n",
        "print(f'b=\\n{b}\\n')"
      ],
      "execution_count": 3,
      "outputs": [
        {
          "output_type": "stream",
          "text": [
            "P=\n",
            "[ 2.50e+01  1.90e+01  1.80e+01 -1.40e+01 -1.70e+01 -3.00e+00]\n",
            "[ 1.90e+01  1.70e+01  1.40e+01 -2.00e+00 -3.00e+00  7.00e+00]\n",
            "[ 1.80e+01  1.40e+01  1.30e+01 -9.00e+00 -1.10e+01 -1.00e+00]\n",
            "[-1.40e+01 -2.00e+00 -9.00e+00  3.70e+01  4.30e+01  3.30e+01]\n",
            "[-1.70e+01 -3.00e+00 -1.10e+01  4.30e+01  5.00e+01  3.80e+01]\n",
            "[-3.00e+00  7.00e+00 -1.00e+00  3.30e+01  3.80e+01  3.40e+01]\n",
            "\n",
            "\n",
            "q=\n",
            "[-1.00e+00]\n",
            "[-1.00e+00]\n",
            "[-1.00e+00]\n",
            "[-1.00e+00]\n",
            "[-1.00e+00]\n",
            "[-1.00e+00]\n",
            "\n",
            "\n",
            "G=\n",
            "[-1.00e+00 -0.00e+00 -0.00e+00 -0.00e+00 -0.00e+00 -0.00e+00]\n",
            "[-0.00e+00 -1.00e+00 -0.00e+00 -0.00e+00 -0.00e+00 -0.00e+00]\n",
            "[-0.00e+00 -0.00e+00 -1.00e+00 -0.00e+00 -0.00e+00 -0.00e+00]\n",
            "[-0.00e+00 -0.00e+00 -0.00e+00 -1.00e+00 -0.00e+00 -0.00e+00]\n",
            "[-0.00e+00 -0.00e+00 -0.00e+00 -0.00e+00 -1.00e+00 -0.00e+00]\n",
            "[-0.00e+00 -0.00e+00 -0.00e+00 -0.00e+00 -0.00e+00 -1.00e+00]\n",
            "\n",
            "\n",
            "h=\n",
            "[ 0.00e+00]\n",
            "[ 0.00e+00]\n",
            "[ 0.00e+00]\n",
            "[ 0.00e+00]\n",
            "[ 0.00e+00]\n",
            "[ 0.00e+00]\n",
            "\n",
            "\n",
            "A=\n",
            "[-1.00e+00 -1.00e+00 -1.00e+00  1.00e+00  1.00e+00  1.00e+00]\n",
            "\n",
            "\n",
            "b=\n",
            "[ 0.00e+00]\n",
            "\n",
            "\n"
          ],
          "name": "stdout"
        },
        {
          "output_type": "execute_result",
          "data": {
            "text/plain": [
              "'\\nm,n = X.shape\\ny = y.reshape(-1,1) * 1.\\nX_dash = y * X\\nH = np.dot(X_dash , X_dash.T) * 1.\\n\\n#Converting into cvxopt format\\nP = matrix(H)\\nq = matrix(-np.ones((m, 1)))\\nG = matrix(-np.eye(m))\\nh = matrix(np.zeros(m))\\nA = matrix(y.reshape(1, -1))\\nb = matrix(np.zeros(1))\\n'"
            ]
          },
          "metadata": {
            "tags": []
          },
          "execution_count": 3
        }
      ]
    },
    {
      "cell_type": "markdown",
      "metadata": {
        "id": "UUgTrMydBcTT",
        "colab_type": "text"
      },
      "source": [
        "Solve System"
      ]
    },
    {
      "cell_type": "code",
      "metadata": {
        "id": "a7XxcUjtBb7Z",
        "colab_type": "code",
        "outputId": "ce7dac7d-3cfe-49a4-fcc2-9ef73911cf5f",
        "colab": {
          "base_uri": "https://localhost:8080/",
          "height": 238
        }
      },
      "source": [
        "'''\n",
        "\n",
        "X_temp = np.copy(X)\n",
        "y_temp = np.copy(y)\n",
        "sol_found = False\n",
        "\n",
        "while not sol_found:\n",
        "  lambdas = np.linalg.lstsq(F, np.ones(F.shape[0]))\n",
        "  lambdas = np.maximum(lambdas, 0)\n",
        "  remove = (lambdas == 0)\n",
        "  keep = (lambdas != 0)\n",
        "  if len(remove) == 0:\n",
        "    sol_found = True\n",
        "  else:\n",
        "    F = F[keep]\n",
        "    F = F[:, keep]\n",
        "    X_temp = X_temp[keep]\n",
        "    y_temp = y_temp[keep]\n",
        "    print(y_temp.shape)\n",
        "'''\n",
        "\n",
        "#lambdas = np.linalg.solve(F, B)\n",
        "#temp = lambdas[-1]\n",
        "#lambdas = np.maximum(lambdas, 0)\n",
        "#lambdas[-1] = temp\n",
        "#print(lambdas)\n",
        "\n",
        "#keep = [True, True, True, False, True]\n",
        "#F = F[keep]\n",
        "#F = F[:, keep]\n",
        "#lambdas = np.linalg.solve(F, B[keep])\n",
        "#print(lambdas)\n",
        "\n",
        "sol = solvers.qp(P, q, G, h, A, b)\n",
        "lambdas = np.array(sol['x']).reshape(m)\n",
        "print(lambdas)"
      ],
      "execution_count": 4,
      "outputs": [
        {
          "output_type": "stream",
          "text": [
            "     pcost       dcost       gap    pres   dres\n",
            " 0: -1.8726e-01 -3.1365e-01  9e+00  3e+00  1e+00\n",
            " 1:  9.8767e-03 -2.0754e-01  3e-01  1e-02  6e-03\n",
            " 2: -4.7038e-02 -7.8751e-02  3e-02  2e-17  3e-16\n",
            " 3: -5.9417e-02 -6.3139e-02  4e-03  7e-18  1e-16\n",
            " 4: -6.2411e-02 -6.2558e-02  1e-04  1e-17  2e-16\n",
            " 5: -6.2494e-02 -6.2505e-02  1e-05  1e-17  1e-16\n",
            " 6: -6.2499e-02 -6.2501e-02  2e-06  2e-17  2e-16\n",
            " 7: -6.2500e-02 -6.2500e-02  2e-07  3e-17  2e-16\n",
            " 8: -6.2500e-02 -6.2500e-02  3e-08  2e-18  2e-16\n",
            "Optimal solution found.\n",
            "[1.20974278e-04 9.36699712e-10 6.23790246e-02 6.24999960e-02\n",
            " 1.87364759e-09 1.87271889e-09]\n"
          ],
          "name": "stdout"
        }
      ]
    },
    {
      "cell_type": "markdown",
      "metadata": {
        "id": "FQJv_0uFCo9L",
        "colab_type": "text"
      },
      "source": [
        "Calculate Weights and Bias"
      ]
    },
    {
      "cell_type": "code",
      "metadata": {
        "id": "G_oVb9lzCp9k",
        "colab_type": "code",
        "outputId": "cc989fe4-70d6-445c-cac6-b5bd558e383a",
        "colab": {
          "base_uri": "https://localhost:8080/",
          "height": 51
        }
      },
      "source": [
        "W = np.zeros(n)\n",
        "for i in range(m):\n",
        "  W += lambdas[i]*y[i]*X[i]\n",
        "\n",
        "S = np.where(lambdas > 1e-4)[0][0]\n",
        "#b = lambdas[m]\n",
        "b = y[S] - np.matmul(X[S], W)\n",
        "\n",
        "print(W)\n",
        "print(b)"
      ],
      "execution_count": 5,
      "outputs": [
        {
          "output_type": "stream",
          "text": [
            "[ 0.24987903 -0.25012098]\n",
            "-0.7491531650748484\n"
          ],
          "name": "stdout"
        }
      ]
    },
    {
      "cell_type": "markdown",
      "metadata": {
        "id": "kKbeW4YUDLQ8",
        "colab_type": "text"
      },
      "source": [
        "Graph Decision Boundary"
      ]
    },
    {
      "cell_type": "code",
      "metadata": {
        "id": "L8yOYafNDg6x",
        "colab_type": "code",
        "outputId": "d8e3c11a-1854-4bf3-8843-e93dde709ec8",
        "colab": {
          "base_uri": "https://localhost:8080/",
          "height": 269
        }
      },
      "source": [
        "x_min = min(X[:, 0])\n",
        "x_max = max(X[:, 0])\n",
        "if W[1] != 0:\n",
        "  x_plot = np.linspace(x_min-1, x_max+1, 100)\n",
        "  y_plot = (-W[0]*x_plot - b)/W[1]\n",
        "  y_plot_2 = (1-W[0]*x_plot - b)/W[1]\n",
        "  y_plot_3 = (-1-W[0]*x_plot - b)/W[1]\n",
        "else:\n",
        "  y_plot = np.linspace(0, 3, 100)\n",
        "  x_plot = np.array([- b/W[0]]*100).reshape(100,)\n",
        "\n",
        "fig, ax = plt.subplots()\n",
        "sns.scatterplot(x=X[:, 0], y=X[:, 1], hue=y, ax=ax, palette='winter')\n",
        "ax.plot(x_plot, y_plot)\n",
        "ax.plot(x_plot, y_plot_2)\n",
        "ax.plot(x_plot, y_plot_3)\n",
        "ax.set_aspect(1.0)\n",
        "plt.show()"
      ],
      "execution_count": 6,
      "outputs": [
        {
          "output_type": "display_data",
          "data": {
            "image/png": "[encoded data removed]",
            "text/plain": [
              "<Figure size 432x288 with 1 Axes>"
            ]
          },
          "metadata": {
            "tags": []
          }
        }
      ]
    }
  ]
}