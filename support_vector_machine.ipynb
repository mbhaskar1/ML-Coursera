{
  "nbformat": 4,
  "nbformat_minor": 0,
  "metadata": {
    "colab": {
      "name": "support_vector_machine.ipynb",
      "version": "0.3.2",
      "provenance": [],
      "include_colab_link": true
    },
    "kernelspec": {
      "name": "python3",
      "display_name": "Python 3"
    }
  },
  "cells": [
    {
      "cell_type": "markdown",
      "metadata": {
        "id": "view-in-github",
        "colab_type": "text"
      },
      "source": [
        "<a href=\"https://colab.research.google.com/github/mbhaskar1/ML-Coursera/blob/master/support_vector_machine.ipynb\" target=\"_parent\"><img src=\"https://colab.research.google.com/assets/colab-badge.svg\" alt=\"Open In Colab\"/></a>"
      ]
    },
    {
      "cell_type": "code",
      "metadata": {
        "id": "qpsuy9DY4DD_",
        "colab_type": "code",
        "colab": {}
      },
      "source": [
        "import numpy as np\n",
        "import matplotlib.pyplot as plt\n",
        "import seaborn as sns\n",
        "from sklearn.datasets.samples_generator import make_blobs"
      ],
      "execution_count": 0,
      "outputs": []
    },
    {
      "cell_type": "markdown",
      "metadata": {
        "id": "ufcXtd9d8rpy",
        "colab_type": "text"
      },
      "source": [
        "Create Dataset:"
      ]
    },
    {
      "cell_type": "code",
      "metadata": {
        "id": "RdCInkZ98rT2",
        "colab_type": "code",
        "colab": {
          "base_uri": "https://localhost:8080/",
          "height": 269
        },
        "outputId": "b0644958-8330-4ac8-aa77-084cb7f07c22"
      },
      "source": [
        "m = NUM_POINTS = 100\n",
        "n = NUM_FEATURES = 2\n",
        "\n",
        "X, y = make_blobs(n_samples=100, centers=2, n_features=2, cluster_std=0.5, random_state=0)\n",
        "\n",
        "'''\n",
        "X = np.array([[0, 1], [1, 0], [2, 2], [3, 3]])\n",
        "y = np.array([0, 0, 1, 1]).reshape((4,))\n",
        "m = 4\n",
        "n = 2\n",
        "\n",
        "X = np.array([[0, 1], [1, 0], [2, 2]])\n",
        "y = np.array([0, 0, 1]).reshape((3,))\n",
        "m = 3\n",
        "n = 2\n",
        "\n",
        "X = np.array([[1, 1], [2, 2]])\n",
        "y = np.array([0, 1]).reshape((2,))\n",
        "m = 2\n",
        "n = 2\n",
        "'''\n",
        "\n",
        "sns.scatterplot(x=X[:, 0], y=X[:, 1], hue=y)\n",
        "\n",
        "y = 2*y - 1  # Change y to be -1 and 1 instead of 0 and 1\n"
      ],
      "execution_count": 2,
      "outputs": [
        {
          "output_type": "display_data",
          "data": {
            "image/png": "[encoded data removed]",
            "text/plain": [
              "<Figure size 432x288 with 1 Axes>"
            ]
          },
          "metadata": {
            "tags": []
          }
        }
      ]
    },
    {
      "cell_type": "markdown",
      "metadata": {
        "id": "9wyjoXIo-cqM",
        "colab_type": "text"
      },
      "source": [
        "Create F array"
      ]
    },
    {
      "cell_type": "code",
      "metadata": {
        "id": "ZfCzU87o_GZR",
        "colab_type": "code",
        "colab": {
          "base_uri": "https://localhost:8080/",
          "height": 238
        },
        "outputId": "30361061-8297-4683-fb04-6cfd8f41a45c"
      },
      "source": [
        "def kernel(x1, x2, type):\n",
        "  if type=='no-kernel':\n",
        "    return np.dot(x1, x2)\n",
        "\n",
        "F = np.zeros((m, m))\n",
        "for i in range(m):\n",
        "  for j in range(m):\n",
        "    F[i, j] = y[i]*y[j]*kernel(X[i], X[j], 'no-kernel')\n",
        "\n",
        "print(F)"
      ],
      "execution_count": 3,
      "outputs": [
        {
          "output_type": "stream",
          "text": [
            "[[12.29217997  5.71027907 -8.44567598 ...  9.41047684 -7.10399264\n",
            "   6.59189542]\n",
            " [ 5.71027907  2.65564711 -3.70342108 ...  4.38725162 -3.0998671\n",
            "   3.03303505]\n",
            " [-8.44567598 -3.70342108 22.14227201 ... -5.30290387 19.75575739\n",
            "  -6.6981246 ]\n",
            " ...\n",
            " [ 9.41047684  4.38725162 -5.30290387 ...  7.28709622 -4.3799922\n",
            "   4.89217312]\n",
            " [-7.10399264 -3.0998671  19.75575739 ... -4.3799922  17.6469807\n",
            "  -5.7841949 ]\n",
            " [ 6.59189542  3.03303505 -6.6981246  ...  4.89217312 -5.7841949\n",
            "   3.82294103]]\n"
          ],
          "name": "stdout"
        }
      ]
    },
    {
      "cell_type": "markdown",
      "metadata": {
        "id": "UUgTrMydBcTT",
        "colab_type": "text"
      },
      "source": [
        "Solve System"
      ]
    },
    {
      "cell_type": "code",
      "metadata": {
        "id": "a7XxcUjtBb7Z",
        "colab_type": "code",
        "colab": {
          "base_uri": "https://localhost:8080/",
          "height": 799
        },
        "outputId": "ed820b34-ef10-4769-b9df-a2178f9289ed"
      },
      "source": [
        "'''\n",
        "\n",
        "X_temp = np.copy(X)\n",
        "y_temp = np.copy(y)\n",
        "sol_found = False\n",
        "\n",
        "while not sol_found:\n",
        "  lambdas = np.linalg.lstsq(F, np.ones(F.shape[0]))\n",
        "  lambdas = np.maximum(lambdas, 0)\n",
        "  remove = (lambdas == 0)\n",
        "  keep = (lambdas != 0)\n",
        "  if len(remove) == 0:\n",
        "    sol_found = True\n",
        "  else:\n",
        "    F = F[keep]\n",
        "    F = F[:, keep]\n",
        "    X_temp = X_temp[keep]\n",
        "    y_temp = y_temp[keep]\n",
        "    print(y_temp.shape)\n",
        "'''\n",
        "\n",
        "\n"
      ],
      "execution_count": 5,
      "outputs": [
        {
          "output_type": "stream",
          "text": [
            "(array([ 0.00897335,  0.00432499,  0.00545569,  0.00283248,  0.00795921,\n",
            "        0.00073152,  0.00244586,  0.00844106,  0.00313753,  0.0051197 ,\n",
            "        0.00339483,  0.00557399,  0.00298706,  0.00431985,  0.00501035,\n",
            "        0.00964647,  0.00884764,  0.00360616,  0.00404097,  0.00430151,\n",
            "        0.00265471,  0.00325827,  0.0036385 ,  0.0053872 ,  0.00712035,\n",
            "        0.00313924,  0.00532233,  0.00391873,  0.00210663,  0.00564785,\n",
            "        0.00752093,  0.00275865,  0.00405186,  0.00755139,  0.00396365,\n",
            "        0.00042634,  0.00483489,  0.00471645, -0.00025707,  0.00308382,\n",
            "        0.00352047,  0.00097225,  0.00710443,  0.00145307,  0.00257748,\n",
            "        0.00590675,  0.00682714,  0.00641256,  0.00590524,  0.00425537,\n",
            "        0.00636083,  0.00356151,  0.0013566 ,  0.00252945, -0.00243389,\n",
            "        0.00272184, -0.00166685,  0.00523614,  0.0074805 ,  0.00832472,\n",
            "        0.00444307,  0.00085543,  0.00532829,  0.00697291,  0.00344314,\n",
            "        0.00379393,  0.00380388, -0.00137426,  0.00755954,  0.00058632,\n",
            "        0.00149164,  0.00585763,  0.00875258,  0.00145067,  0.00288096,\n",
            "        0.00353572,  0.00372744,  0.00650106,  0.00325911,  0.00301782,\n",
            "        0.00315881,  0.00205723,  0.00562443,  0.00138836,  0.00273057,\n",
            "        0.00453805,  0.00786617,  0.00132202,  0.0049284 ,  0.00724188,\n",
            "        0.00685342,  0.00805902,  0.00363329,  0.00537911, -0.00015513,\n",
            "        0.00769063,  0.00650127,  0.00769673,  0.00539341,  0.00326947]), array([], dtype=float64), 2, array([1.12321708e+03, 1.67728361e+02, 1.16912215e-13, 1.16912215e-13,\n",
            "       1.16912215e-13, 1.16912215e-13, 1.16912215e-13, 1.16912215e-13,\n",
            "       1.16912215e-13, 1.16912215e-13, 1.16912215e-13, 1.16912215e-13,\n",
            "       1.16912215e-13, 1.16912215e-13, 1.16912215e-13, 1.16912215e-13,\n",
            "       1.16912215e-13, 1.16912215e-13, 1.16912215e-13, 1.16912215e-13,\n",
            "       1.16912215e-13, 1.16912215e-13, 1.16912215e-13, 1.16912215e-13,\n",
            "       1.16912215e-13, 1.16912215e-13, 1.16912215e-13, 1.16912215e-13,\n",
            "       1.16912215e-13, 1.16912215e-13, 1.16912215e-13, 1.16912215e-13,\n",
            "       1.16912215e-13, 1.16912215e-13, 1.16912215e-13, 1.16912215e-13,\n",
            "       1.16912215e-13, 1.16912215e-13, 1.16912215e-13, 1.16912215e-13,\n",
            "       1.16912215e-13, 1.16912215e-13, 1.16912215e-13, 1.16912215e-13,\n",
            "       1.16912215e-13, 1.16912215e-13, 1.16912215e-13, 1.16912215e-13,\n",
            "       1.16912215e-13, 1.16912215e-13, 1.16912215e-13, 1.16912215e-13,\n",
            "       1.16912215e-13, 1.16912215e-13, 1.16912215e-13, 1.16912215e-13,\n",
            "       1.16912215e-13, 1.16912215e-13, 1.16912215e-13, 1.16912215e-13,\n",
            "       1.16912215e-13, 1.16912215e-13, 1.16912215e-13, 1.16912215e-13,\n",
            "       1.16912215e-13, 1.16912215e-13, 1.16912215e-13, 1.16912215e-13,\n",
            "       1.16912215e-13, 1.16912215e-13, 1.16912215e-13, 1.16912215e-13,\n",
            "       1.16912215e-13, 1.16912215e-13, 1.16912215e-13, 1.16912215e-13,\n",
            "       1.16912215e-13, 1.16912215e-13, 1.16912215e-13, 1.16912215e-13,\n",
            "       1.16912215e-13, 1.16912215e-13, 1.16912215e-13, 1.16912215e-13,\n",
            "       1.16912215e-13, 1.16912215e-13, 1.16912215e-13, 1.16912215e-13,\n",
            "       1.16912215e-13, 1.16912215e-13, 1.16912215e-13, 1.16912215e-13,\n",
            "       1.16912215e-13, 1.16912215e-13, 1.16912215e-13, 1.16912215e-13,\n",
            "       1.16912215e-13, 1.16912215e-13, 1.16912215e-13, 2.55488322e-14]))\n"
          ],
          "name": "stdout"
        },
        {
          "output_type": "stream",
          "text": [
            "/usr/local/lib/python3.6/dist-packages/ipykernel_launcher.py:22: FutureWarning: `rcond` parameter will change to the default of machine precision times ``max(M, N)`` where M and N are the input matrix dimensions.\n",
            "To use the future default and silence this warning we advise to pass `rcond=None`, to keep using the old, explicitly pass `rcond=-1`.\n"
          ],
          "name": "stderr"
        }
      ]
    },
    {
      "cell_type": "markdown",
      "metadata": {
        "id": "FQJv_0uFCo9L",
        "colab_type": "text"
      },
      "source": [
        "Calculate Weights and Bias"
      ]
    },
    {
      "cell_type": "code",
      "metadata": {
        "id": "G_oVb9lzCp9k",
        "colab_type": "code",
        "colab": {}
      },
      "source": [
        "W = np.zeros(n)\n",
        "for i in range(m):\n",
        "  W += lambdas[i]*y[i]*X[i]\n",
        "\n",
        "b = 0\n",
        "for i in range(m):\n",
        "  b -= lambdas[i]*y[i] # This is wrong\n",
        "\n",
        "print(W)\n",
        "print(b)"
      ],
      "execution_count": 0,
      "outputs": []
    },
    {
      "cell_type": "markdown",
      "metadata": {
        "id": "kKbeW4YUDLQ8",
        "colab_type": "text"
      },
      "source": [
        "Graph Decision Boundary"
      ]
    },
    {
      "cell_type": "code",
      "metadata": {
        "id": "L8yOYafNDg6x",
        "colab_type": "code",
        "colab": {}
      },
      "source": [
        "sns.scatterplot(x=X[:, 0], y=X[:, 1], hue=y)\n",
        "x_plot = np.linspace(-1, 4, 100)\n",
        "y_plot = (-W[0]*x_plot - b)/W[1]\n",
        "y_plot_2 = (1-W[0]*x_plot - b)/W[1]\n",
        "y_plot_3 = (-1-W[0]*x_plot - b)/W[1]\n",
        "plt.plot(x_plot, y_plot)\n",
        "plt.plot(x_plot, y_plot_2)\n",
        "plt.plot(x_plot, y_plot_3)\n",
        "plt.show()"
      ],
      "execution_count": 0,
      "outputs": []
    }
  ]
}