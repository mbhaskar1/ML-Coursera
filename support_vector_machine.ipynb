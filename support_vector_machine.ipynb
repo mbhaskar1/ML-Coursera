{
  "nbformat": 4,
  "nbformat_minor": 0,
  "metadata": {
    "colab": {
      "name": "support_vector_machine.ipynb",
      "version": "0.3.2",
      "provenance": [],
      "include_colab_link": true
    },
    "kernelspec": {
      "name": "python3",
      "display_name": "Python 3"
    }
  },
  "cells": [
    {
      "cell_type": "markdown",
      "metadata": {
        "id": "view-in-github",
        "colab_type": "text"
      },
      "source": [
        "<a href=\"https://colab.research.google.com/github/mbhaskar1/ML-Coursera/blob/master/support_vector_machine.ipynb\" target=\"_parent\"><img src=\"https://colab.research.google.com/assets/colab-badge.svg\" alt=\"Open In Colab\"/></a>"
      ]
    },
    {
      "cell_type": "code",
      "metadata": {
        "id": "qpsuy9DY4DD_",
        "colab_type": "code",
        "colab": {}
      },
      "source": [
        "import numpy as np\n",
        "import matplotlib.pyplot as plt\n",
        "import seaborn as sns\n",
        "from sklearn.datasets.samples_generator import make_blobs"
      ],
      "execution_count": 0,
      "outputs": []
    },
    {
      "cell_type": "markdown",
      "metadata": {
        "id": "ufcXtd9d8rpy",
        "colab_type": "text"
      },
      "source": [
        "Create Dataset:"
      ]
    },
    {
      "cell_type": "code",
      "metadata": {
        "id": "RdCInkZ98rT2",
        "colab_type": "code",
        "colab": {
          "base_uri": "https://localhost:8080/",
          "height": 269
        },
        "outputId": "840b8a53-0d71-4846-f580-635209525a7d"
      },
      "source": [
        "m = NUM_POINTS = 100\n",
        "n = NUM_FEATURES = 2\n",
        "\n",
        "CASE = 9\n",
        "\n",
        "if CASE == 1:\n",
        "  # 100 Vectors - Few Support Vectors\n",
        "  X, y = make_blobs(n_samples=100, centers=2, n_features=2, cluster_std=0.5, random_state=0)\n",
        "elif CASE == 2:\n",
        "  # 4 Vectors - 1 Non-Support Vector\n",
        "  X = np.array([[0, 1], [1, 0], [2, 2], [3, 3]])\n",
        "  y = np.array([0, 0, 1, 1]).reshape((4,))\n",
        "  m = 4\n",
        "  n = 2\n",
        "elif CASE == 3:\n",
        "  # 4 Vectors - All Support Vectors (But not really)\n",
        "  X = np.array([[0, 1], [2, 0], [2, 2], [0, 3]])\n",
        "  y = np.array([0, 0, 1, 1])\n",
        "  m = 4\n",
        "  n = 2\n",
        "elif CASE == 4:\n",
        "  # 3 Vectors - 1 Non-Support Vector\n",
        "  X = np.array([[0, 1], [2, 0], [0, 2]])\n",
        "  y = np.array([0, 0, 1])\n",
        "  m = 3\n",
        "  n = 2\n",
        "elif CASE == 5:\n",
        "  # 3 Vectors - All Support Vectors\n",
        "  X = np.array([[0, 1], [2, 0], [2, 2]])\n",
        "  y = np.array([0, 0, 1]).reshape((3,))\n",
        "  m = 3\n",
        "  n = 2\n",
        "elif CASE == 6:\n",
        "  # 2 Vectors - All Support Vectors\n",
        "  X = np.array([[1, 1], [2, 2]])\n",
        "  y = np.array([0, 1]).reshape((2,))\n",
        "  m = 2\n",
        "  n = 2\n",
        "elif CASE == 7:\n",
        "  # 4 Vectors - 1 Non-Support Vector\n",
        "  X = np.array([[0, 1], [1, 0], [2, 2], [3, 3]], dtype=np.float64)\n",
        "  X += np.array([[0.5, 0.8], [0.5, 0.8], [0.5, 0.8], [0.5, 0.8]])\n",
        "  y = np.array([0, 0, 1, 1]).reshape((4,))\n",
        "  m = 4\n",
        "  n = 2\n",
        "elif CASE == 8:\n",
        "  # Steven\n",
        "  X = np.array([[1, 1], [2, 2], [3, 3]])\n",
        "  y = np.array([0, 0, 1])\n",
        "  m = 3\n",
        "  n = 2\n",
        "elif CASE == 9:\n",
        "  # Modified Case 4\n",
        "  X = np.array([[0, 1], [2, 0], [0.1, 2]])\n",
        "  y = np.array([0, 0, 1])\n",
        "  m = 3\n",
        "  n = 2\n",
        "\n",
        "\n",
        "sns.scatterplot(x=X[:, 0], y=X[:, 1], hue=y)\n",
        "\n",
        "y = 2*y - 1  # Change y to be -1 and 1 instead of 0 and 1\n"
      ],
      "execution_count": 2,
      "outputs": [
        {
          "output_type": "display_data",
          "data": {
            "image/png": "[encoded data removed]",
            "text/plain": [
              "<Figure size 432x288 with 1 Axes>"
            ]
          },
          "metadata": {
            "tags": []
          }
        }
      ]
    },
    {
      "cell_type": "markdown",
      "metadata": {
        "id": "9wyjoXIo-cqM",
        "colab_type": "text"
      },
      "source": [
        "Create F array"
      ]
    },
    {
      "cell_type": "code",
      "metadata": {
        "id": "ZfCzU87o_GZR",
        "colab_type": "code",
        "colab": {
          "base_uri": "https://localhost:8080/",
          "height": 153
        },
        "outputId": "e4059b60-df4e-4004-b9ae-84c0560f5543"
      },
      "source": [
        "def kernel(x1, x2, type):\n",
        "  if type=='no-kernel':\n",
        "    return np.dot(x1, x2)\n",
        "\n",
        "F = np.zeros((m+1, m+1))\n",
        "for i in range(m):\n",
        "  for j in range(m):\n",
        "    F[i, j] = y[i]*y[j]*kernel(X[i], X[j], 'no-kernel')\n",
        "\n",
        "for i in range(m):\n",
        "  F[m, i] = y[i]\n",
        "  F[i, m] = y[i]\n",
        "\n",
        "F[m, m] = 0\n",
        "  \n",
        "print(f'F=\\n{F}\\n')\n",
        "\n",
        "B = np.ones(m+1)\n",
        "B[m] = 0\n",
        "\n",
        "print(f'B=\\n{B}')"
      ],
      "execution_count": 3,
      "outputs": [
        {
          "output_type": "stream",
          "text": [
            "F=\n",
            "[[ 1.    0.   -2.   -1.  ]\n",
            " [ 0.    4.   -0.2  -1.  ]\n",
            " [-2.   -0.2   4.01  1.  ]\n",
            " [-1.   -1.    1.    0.  ]]\n",
            "\n",
            "B=\n",
            "[1. 1. 1. 0.]\n"
          ],
          "name": "stdout"
        }
      ]
    },
    {
      "cell_type": "markdown",
      "metadata": {
        "id": "UUgTrMydBcTT",
        "colab_type": "text"
      },
      "source": [
        "Solve System"
      ]
    },
    {
      "cell_type": "code",
      "metadata": {
        "id": "a7XxcUjtBb7Z",
        "colab_type": "code",
        "colab": {
          "base_uri": "https://localhost:8080/",
          "height": 34
        },
        "outputId": "f37a822b-b3df-4f6e-bc92-799ec8c991da"
      },
      "source": [
        "'''\n",
        "\n",
        "X_temp = np.copy(X)\n",
        "y_temp = np.copy(y)\n",
        "sol_found = False\n",
        "\n",
        "while not sol_found:\n",
        "  lambdas = np.linalg.lstsq(F, np.ones(F.shape[0]))\n",
        "  lambdas = np.maximum(lambdas, 0)\n",
        "  remove = (lambdas == 0)\n",
        "  keep = (lambdas != 0)\n",
        "  if len(remove) == 0:\n",
        "    sol_found = True\n",
        "  else:\n",
        "    F = F[keep]\n",
        "    F = F[:, keep]\n",
        "    X_temp = X_temp[keep]\n",
        "    y_temp = y_temp[keep]\n",
        "    print(y_temp.shape)\n",
        "'''\n",
        "\n",
        "lambdas = np.linalg.solve(F, B)\n",
        "#temp = lambdas[-1]\n",
        "#lambdas = np.maximum(lambdas, 0)\n",
        "#lambdas[-1] = temp\n",
        "print(lambdas)\n",
        "\n",
        "#keep = [True, True, True, False, True]\n",
        "#F = F[keep]\n",
        "#F = F[:, keep]\n",
        "#lambdas = np.linalg.solve(F, B[keep])\n",
        "#print(lambdas)"
      ],
      "execution_count": 7,
      "outputs": [
        {
          "output_type": "stream",
          "text": [
            "[ 2.63038549 -0.36281179  2.2675737  -2.9047619 ]\n"
          ],
          "name": "stdout"
        }
      ]
    },
    {
      "cell_type": "markdown",
      "metadata": {
        "id": "FQJv_0uFCo9L",
        "colab_type": "text"
      },
      "source": [
        "Calculate Weights and Bias"
      ]
    },
    {
      "cell_type": "code",
      "metadata": {
        "id": "G_oVb9lzCp9k",
        "colab_type": "code",
        "colab": {
          "base_uri": "https://localhost:8080/",
          "height": 51
        },
        "outputId": "43fdddcd-816c-4c24-f411-656b8fc1f019"
      },
      "source": [
        "W = np.zeros(n)\n",
        "for i in range(m):\n",
        "  W += lambdas[i]*y[i]*X[i]\n",
        "\n",
        "b = lambdas[m]\n",
        "\n",
        "print(W)\n",
        "print(b)"
      ],
      "execution_count": 5,
      "outputs": [
        {
          "output_type": "stream",
          "text": [
            "[0.22675737 1.9047619 ]\n",
            "-2.9047619047619047\n"
          ],
          "name": "stdout"
        }
      ]
    },
    {
      "cell_type": "markdown",
      "metadata": {
        "id": "kKbeW4YUDLQ8",
        "colab_type": "text"
      },
      "source": [
        "Graph Decision Boundary"
      ]
    },
    {
      "cell_type": "code",
      "metadata": {
        "id": "L8yOYafNDg6x",
        "colab_type": "code",
        "colab": {
          "base_uri": "https://localhost:8080/",
          "height": 269
        },
        "outputId": "654d4a50-e644-4e45-864f-e05b83385f7c"
      },
      "source": [
        "if W[1] != 0:\n",
        "  x_plot = np.linspace(0, 3, 100)\n",
        "  y_plot = (-W[0]*x_plot - b)/W[1]\n",
        "  y_plot_2 = (1-W[0]*x_plot - b)/W[1]\n",
        "  y_plot_3 = (-1-W[0]*x_plot - b)/W[1]\n",
        "else:\n",
        "  y_plot = np.linspace(0, 3, 100)\n",
        "  x_plot = np.array([- b/W[0]]*100).reshape(100,)\n",
        "\n",
        "fig, ax = plt.subplots()\n",
        "sns.scatterplot(x=X[:, 0], y=X[:, 1], hue=y, ax=ax, palette='winter')\n",
        "ax.plot(x_plot, y_plot)\n",
        "ax.plot(x_plot, y_plot_2)\n",
        "ax.plot(x_plot, y_plot_3)\n",
        "ax.set_aspect(1.0)\n",
        "plt.show()"
      ],
      "execution_count": 6,
      "outputs": [
        {
          "output_type": "display_data",
          "data": {
            "image/png": "[encoded data removed]",
            "text/plain": [
              "<Figure size 432x288 with 1 Axes>"
            ]
          },
          "metadata": {
            "tags": []
          }
        }
      ]
    }
  ]
}