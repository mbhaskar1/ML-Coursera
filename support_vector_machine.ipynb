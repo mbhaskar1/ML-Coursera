{
  "nbformat": 4,
  "nbformat_minor": 0,
  "metadata": {
    "colab": {
      "name": "support_vector_machine.ipynb",
      "version": "0.3.2",
      "provenance": [],
      "include_colab_link": true
    },
    "kernelspec": {
      "name": "python3",
      "display_name": "Python 3"
    }
  },
  "cells": [
    {
      "cell_type": "markdown",
      "metadata": {
        "id": "view-in-github",
        "colab_type": "text"
      },
      "source": [
        "<a href=\"https://colab.research.google.com/github/mbhaskar1/ML-Coursera/blob/master/support_vector_machine.ipynb\" target=\"_parent\"><img src=\"https://colab.research.google.com/assets/colab-badge.svg\" alt=\"Open In Colab\"/></a>"
      ]
    },
    {
      "cell_type": "code",
      "metadata": {
        "id": "qpsuy9DY4DD_",
        "colab_type": "code",
        "colab": {}
      },
      "source": [
        "import numpy as np\n",
        "import matplotlib.pyplot as plt\n",
        "import seaborn as sns\n",
        "from sklearn.datasets.samples_generator import make_blobs\n",
        "from cvxopt import matrix, solvers"
      ],
      "execution_count": 0,
      "outputs": []
    },
    {
      "cell_type": "markdown",
      "metadata": {
        "id": "ufcXtd9d8rpy",
        "colab_type": "text"
      },
      "source": [
        "Create Dataset:"
      ]
    },
    {
      "cell_type": "code",
      "metadata": {
        "id": "RdCInkZ98rT2",
        "colab_type": "code",
        "outputId": "760566ba-b0a1-426e-8386-f68333fcc59f",
        "colab": {
          "base_uri": "https://localhost:8080/",
          "height": 269
        }
      },
      "source": [
        "KERNEL = 'linear'\n",
        "POLY_P = 3\n",
        "CASE = 1\n",
        "\n",
        "if CASE == 1:\n",
        "  # Linearly Separable\n",
        "  X, y = make_blobs(n_samples=100, centers=2, n_features=2, cluster_std=0.5, random_state=0)\n",
        "elif CASE == 2:\n",
        "  # Simple Linearly Separable\n",
        "  X = np.array([[0, 1], [1, 0], [2, 2], [3, 3]])\n",
        "  y = np.array([0, 0, 1, 1]).reshape((4,))\n",
        "elif CASE == 3:\n",
        "  # Not Linearly Separable\n",
        "  X = np.array([[1, 0], [0, 1], [2, 1], [1, 2]])\n",
        "  y = np.array([0, 1, 1, 0])\n",
        "\n",
        "m = X.shape[0]\n",
        "  \n",
        "fig, ax = plt.subplots()\n",
        "sns.scatterplot(x=X[:, 0], y=X[:, 1], hue=y, ax=ax)\n",
        "ax.set_aspect(1.0)\n",
        "plt.show()\n",
        "\n",
        "y = 2*y - 1  # Change y to be -1 and 1 instead of 0 and 1\n"
      ],
      "execution_count": 2,
      "outputs": [
        {
          "output_type": "display_data",
          "data": {
            "image/png": "[encoded data removed]",
            "text/plain": [
              "<Figure size 432x288 with 1 Axes>"
            ]
          },
          "metadata": {
            "tags": []
          }
        }
      ]
    },
    {
      "cell_type": "markdown",
      "metadata": {
        "id": "9wyjoXIo-cqM",
        "colab_type": "text"
      },
      "source": [
        "Create P, q, G, h, A, and b matrices for QP optimization problem (https://cvxopt.org/userguide/coneprog.html)"
      ]
    },
    {
      "cell_type": "code",
      "metadata": {
        "id": "ZfCzU87o_GZR",
        "colab_type": "code",
        "colab": {}
      },
      "source": [
        "def kernel(x1, x2, type, p=3):\n",
        "  if type=='linear':\n",
        "    return np.dot(x1, x2.T)\n",
        "  elif type=='poly':\n",
        "    return (1+np.dot(x1,x2.T))**p\n",
        "\n",
        "print_matrices = False\n",
        "\n",
        "P = np.zeros((m, m))\n",
        "for i in range(m):\n",
        "  for j in range(m):\n",
        "    P[i, j] = y[i]*y[j]*kernel(X[i], X[j], KERNEL, p=POLY_P)\n",
        "\n",
        "P = matrix(P)\n",
        "q = matrix(-np.ones((m, 1)))\n",
        "G = matrix(-np.eye(m))\n",
        "h = matrix(np.zeros(m))\n",
        "A = matrix(y.reshape(1, m).astype('double'))\n",
        "b = matrix(np.zeros(1))\n",
        "\n",
        "if print_matrices:\n",
        "  print(f'P=\\n{P}\\n')\n",
        "  print(f'q=\\n{q}\\n')\n",
        "  print(f'G=\\n{G}\\n')\n",
        "  print(f'h=\\n{h}\\n')\n",
        "  print(f'A=\\n{A}\\n')\n",
        "  print(f'b=\\n{b}\\n')"
      ],
      "execution_count": 0,
      "outputs": []
    },
    {
      "cell_type": "markdown",
      "metadata": {
        "id": "UUgTrMydBcTT",
        "colab_type": "text"
      },
      "source": [
        "Solve System"
      ]
    },
    {
      "cell_type": "code",
      "metadata": {
        "id": "a7XxcUjtBb7Z",
        "colab_type": "code",
        "outputId": "c98a9994-343b-470f-8b5c-fee78a7c3b01",
        "colab": {
          "base_uri": "https://localhost:8080/",
          "height": 238
        }
      },
      "source": [
        "solvers.options['abstol'] = 1e-12\n",
        "solvers.options['reltol'] = 1e-12\n",
        "solvers.options['feastol'] = 1e-12\n",
        "sol = solvers.qp(P, q, G, h, A, b)\n",
        "lambdas = np.array(sol['x']).reshape(m)"
      ],
      "execution_count": 4,
      "outputs": [
        {
          "output_type": "stream",
          "text": [
            "     pcost       dcost       gap    pres   dres\n",
            " 0: -7.7669e+00 -1.2953e+01  2e+02  2e+01  2e+00\n",
            " 1: -6.3538e+00 -2.3945e+00  2e+01  2e+00  2e-01\n",
            " 2: -3.1209e-01 -1.2118e+00  9e-01  2e-15  1e-14\n",
            " 3: -5.9417e-01 -8.2689e-01  2e-01  5e-16  4e-15\n",
            " 4: -7.4021e-01 -8.1924e-01  8e-02  1e-16  2e-15\n",
            " 5: -8.0210e-01 -8.0320e-01  1e-03  1e-16  2e-15\n",
            " 6: -8.0294e-01 -8.0295e-01  1e-05  1e-16  2e-15\n",
            " 7: -8.0294e-01 -8.0294e-01  1e-07  1e-16  2e-15\n",
            " 8: -8.0294e-01 -8.0294e-01  1e-09  2e-16  2e-15\n",
            " 9: -8.0294e-01 -8.0294e-01  1e-11  3e-16  3e-15\n",
            "10: -8.0294e-01 -8.0294e-01  1e-13  3e-16  2e-15\n",
            "Optimal solution found.\n"
          ],
          "name": "stdout"
        }
      ]
    },
    {
      "cell_type": "markdown",
      "metadata": {
        "id": "FQJv_0uFCo9L",
        "colab_type": "text"
      },
      "source": [
        "Calculate $b$"
      ]
    },
    {
      "cell_type": "code",
      "metadata": {
        "id": "G_oVb9lzCp9k",
        "colab_type": "code",
        "outputId": "29d07ebf-142b-4553-8138-87218421590c",
        "colab": {
          "base_uri": "https://localhost:8080/",
          "height": 34
        }
      },
      "source": [
        "S = np.where(lambdas > 1e-5)[0][0]\n",
        "b = y[S] - sum(lambdas * y * kernel(X, X[S], KERNEL, p=POLY_P).flatten())\n",
        "print(b)"
      ],
      "execution_count": 5,
      "outputs": [
        {
          "output_type": "stream",
          "text": [
            "3.0307342900430214\n"
          ],
          "name": "stdout"
        }
      ]
    },
    {
      "cell_type": "markdown",
      "metadata": {
        "id": "kKbeW4YUDLQ8",
        "colab_type": "text"
      },
      "source": [
        "Graph Decision Boundary"
      ]
    },
    {
      "cell_type": "code",
      "metadata": {
        "id": "L8yOYafNDg6x",
        "colab_type": "code",
        "outputId": "1e766b35-a1cc-456a-e64a-e45f8c5c2048",
        "colab": {
          "base_uri": "https://localhost:8080/",
          "height": 269
        }
      },
      "source": [
        "x_min = min(X[:, 0]) - 0.5\n",
        "x_max = max(X[:, 0]) + 0.5\n",
        "y_min = min(X[:, 1]) - 0.5\n",
        "y_max = max(X[:, 1]) + 0.5\n",
        "step = 0.02\n",
        "xx, yy = np.meshgrid(np.arange(x_min, x_max, step), np.arange(y_min, y_max, step))\n",
        "d = np.concatenate((xx.ravel().reshape(-1, 1), yy.ravel().reshape(-1, 1)), axis=1)\n",
        "num_points = d.shape[0]\n",
        "\n",
        "Z = np.sum(lambdas.reshape(-1, 1) * y.reshape(-1, 1) * kernel(X, d, KERNEL, p=POLY_P), axis=0) + b\n",
        "Z = Z.reshape(xx.shape)\n",
        "\n",
        "y = (y+1)//2\n",
        "\n",
        "fig, ax = plt.subplots()\n",
        "sns.scatterplot(x=X[:, 0], y=X[:, 1], hue=y, ax=ax)\n",
        "ax.contour(xx, yy, Z, levels=[-1, 0, 1])\n",
        "ax.set_aspect(1.0)\n",
        "plt.show()"
      ],
      "execution_count": 6,
      "outputs": [
        {
          "output_type": "display_data",
          "data": {
            "image/png": "[encoded data removed]",
            "text/plain": [
              "<Figure size 432x288 with 1 Axes>"
            ]
          },
          "metadata": {
            "tags": []
          }
        }
      ]
    }
  ]
}